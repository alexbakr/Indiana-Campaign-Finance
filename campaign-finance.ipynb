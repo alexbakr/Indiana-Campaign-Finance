{
 "cells": [
  {
   "cell_type": "code",
   "execution_count": 1,
   "outputs": [],
   "source": [
    "import pandas as pd\n",
    "import glob"
   ],
   "metadata": {
    "collapsed": false
   }
  },
  {
   "cell_type": "markdown",
   "metadata": {},
   "source": [
    "## Contribution - Data Combination"
   ]
  },
  {
   "cell_type": "code",
   "execution_count": 2,
   "metadata": {},
   "outputs": [
    {
     "name": "stderr",
     "output_type": "stream",
     "text": [
      "/var/folders/8s/t2_j_2bj0v940314cf44s5k80000gn/T/ipykernel_13871/1491375623.py:8: FutureWarning: The error_bad_lines argument has been deprecated and will be removed in a future version. Use on_bad_lines in the future.\n",
      "\n",
      "\n",
      "  df = pd.read_csv(filename, index_col=None, header=0, encoding='latin-1', error_bad_lines=False)\n",
      "/var/folders/8s/t2_j_2bj0v940314cf44s5k80000gn/T/ipykernel_13871/1491375623.py:8: FutureWarning: The error_bad_lines argument has been deprecated and will be removed in a future version. Use on_bad_lines in the future.\n",
      "\n",
      "\n",
      "  df = pd.read_csv(filename, index_col=None, header=0, encoding='latin-1', error_bad_lines=False)\n",
      "/var/folders/8s/t2_j_2bj0v940314cf44s5k80000gn/T/ipykernel_13871/1491375623.py:8: FutureWarning: The error_bad_lines argument has been deprecated and will be removed in a future version. Use on_bad_lines in the future.\n",
      "\n",
      "\n",
      "  df = pd.read_csv(filename, index_col=None, header=0, encoding='latin-1', error_bad_lines=False)\n",
      "b'Skipping line 11747: expected 17 fields, saw 18\\n'\n",
      "b'Skipping line 80661: expected 17 fields, saw 18\\nSkipping line 80662: expected 17 fields, saw 18\\nSkipping line 83926: expected 17 fields, saw 18\\nSkipping line 84240: expected 17 fields, saw 18\\n'\n",
      "/var/folders/8s/t2_j_2bj0v940314cf44s5k80000gn/T/ipykernel_13871/1491375623.py:8: FutureWarning: The error_bad_lines argument has been deprecated and will be removed in a future version. Use on_bad_lines in the future.\n",
      "\n",
      "\n",
      "  df = pd.read_csv(filename, index_col=None, header=0, encoding='latin-1', error_bad_lines=False)\n",
      "/var/folders/8s/t2_j_2bj0v940314cf44s5k80000gn/T/ipykernel_13871/1491375623.py:8: FutureWarning: The error_bad_lines argument has been deprecated and will be removed in a future version. Use on_bad_lines in the future.\n",
      "\n",
      "\n",
      "  df = pd.read_csv(filename, index_col=None, header=0, encoding='latin-1', error_bad_lines=False)\n",
      "b'Skipping line 2394: expected 17 fields, saw 19\\n'\n",
      "/var/folders/8s/t2_j_2bj0v940314cf44s5k80000gn/T/ipykernel_13871/1491375623.py:8: FutureWarning: The error_bad_lines argument has been deprecated and will be removed in a future version. Use on_bad_lines in the future.\n",
      "\n",
      "\n",
      "  df = pd.read_csv(filename, index_col=None, header=0, encoding='latin-1', error_bad_lines=False)\n",
      "/var/folders/8s/t2_j_2bj0v940314cf44s5k80000gn/T/ipykernel_13871/1491375623.py:8: FutureWarning: The error_bad_lines argument has been deprecated and will be removed in a future version. Use on_bad_lines in the future.\n",
      "\n",
      "\n",
      "  df = pd.read_csv(filename, index_col=None, header=0, encoding='latin-1', error_bad_lines=False)\n",
      "b'Skipping line 32595: expected 17 fields, saw 18\\n'\n",
      "b'Skipping line 68293: expected 17 fields, saw 18\\nSkipping line 81380: expected 17 fields, saw 18\\nSkipping line 81511: expected 17 fields, saw 18\\n'\n",
      "b'Skipping line 118245: expected 17 fields, saw 18\\n'\n",
      "/var/folders/8s/t2_j_2bj0v940314cf44s5k80000gn/T/ipykernel_13871/1491375623.py:8: FutureWarning: The error_bad_lines argument has been deprecated and will be removed in a future version. Use on_bad_lines in the future.\n",
      "\n",
      "\n",
      "  df = pd.read_csv(filename, index_col=None, header=0, encoding='latin-1', error_bad_lines=False)\n",
      "/var/folders/8s/t2_j_2bj0v940314cf44s5k80000gn/T/ipykernel_13871/1491375623.py:8: FutureWarning: The error_bad_lines argument has been deprecated and will be removed in a future version. Use on_bad_lines in the future.\n",
      "\n",
      "\n",
      "  df = pd.read_csv(filename, index_col=None, header=0, encoding='latin-1', error_bad_lines=False)\n",
      "b'Skipping line 43183: expected 17 fields, saw 18\\n'\n",
      "/var/folders/8s/t2_j_2bj0v940314cf44s5k80000gn/T/ipykernel_13871/1491375623.py:8: FutureWarning: The error_bad_lines argument has been deprecated and will be removed in a future version. Use on_bad_lines in the future.\n",
      "\n",
      "\n",
      "  df = pd.read_csv(filename, index_col=None, header=0, encoding='latin-1', error_bad_lines=False)\n",
      "b'Skipping line 64268: expected 17 fields, saw 23\\n'\n",
      "b'Skipping line 74351: expected 17 fields, saw 18\\n'\n",
      "/var/folders/8s/t2_j_2bj0v940314cf44s5k80000gn/T/ipykernel_13871/1491375623.py:8: FutureWarning: The error_bad_lines argument has been deprecated and will be removed in a future version. Use on_bad_lines in the future.\n",
      "\n",
      "\n",
      "  df = pd.read_csv(filename, index_col=None, header=0, encoding='latin-1', error_bad_lines=False)\n",
      "/var/folders/8s/t2_j_2bj0v940314cf44s5k80000gn/T/ipykernel_13871/1491375623.py:8: FutureWarning: The error_bad_lines argument has been deprecated and will be removed in a future version. Use on_bad_lines in the future.\n",
      "\n",
      "\n",
      "  df = pd.read_csv(filename, index_col=None, header=0, encoding='latin-1', error_bad_lines=False)\n",
      "b'Skipping line 39976: expected 17 fields, saw 18\\n'\n",
      "b'Skipping line 119005: expected 17 fields, saw 18\\n'\n",
      "/var/folders/8s/t2_j_2bj0v940314cf44s5k80000gn/T/ipykernel_13871/1491375623.py:8: DtypeWarning: Columns (0) have mixed types. Specify dtype option on import or set low_memory=False.\n",
      "  df = pd.read_csv(filename, index_col=None, header=0, encoding='latin-1', error_bad_lines=False)\n",
      "/var/folders/8s/t2_j_2bj0v940314cf44s5k80000gn/T/ipykernel_13871/1491375623.py:8: FutureWarning: The error_bad_lines argument has been deprecated and will be removed in a future version. Use on_bad_lines in the future.\n",
      "\n",
      "\n",
      "  df = pd.read_csv(filename, index_col=None, header=0, encoding='latin-1', error_bad_lines=False)\n",
      "/var/folders/8s/t2_j_2bj0v940314cf44s5k80000gn/T/ipykernel_13871/1491375623.py:8: FutureWarning: The error_bad_lines argument has been deprecated and will be removed in a future version. Use on_bad_lines in the future.\n",
      "\n",
      "\n",
      "  df = pd.read_csv(filename, index_col=None, header=0, encoding='latin-1', error_bad_lines=False)\n",
      "b'Skipping line 9758: expected 17 fields, saw 18\\n'\n",
      "b'Skipping line 94915: expected 17 fields, saw 18\\n'\n",
      "b'Skipping line 111851: expected 17 fields, saw 18\\n'\n",
      "/var/folders/8s/t2_j_2bj0v940314cf44s5k80000gn/T/ipykernel_13871/1491375623.py:8: DtypeWarning: Columns (10) have mixed types. Specify dtype option on import or set low_memory=False.\n",
      "  df = pd.read_csv(filename, index_col=None, header=0, encoding='latin-1', error_bad_lines=False)\n",
      "/var/folders/8s/t2_j_2bj0v940314cf44s5k80000gn/T/ipykernel_13871/1491375623.py:8: FutureWarning: The error_bad_lines argument has been deprecated and will be removed in a future version. Use on_bad_lines in the future.\n",
      "\n",
      "\n",
      "  df = pd.read_csv(filename, index_col=None, header=0, encoding='latin-1', error_bad_lines=False)\n",
      "b'Skipping line 18166: expected 17 fields, saw 18\\n'\n",
      "/var/folders/8s/t2_j_2bj0v940314cf44s5k80000gn/T/ipykernel_13871/1491375623.py:8: DtypeWarning: Columns (10) have mixed types. Specify dtype option on import or set low_memory=False.\n",
      "  df = pd.read_csv(filename, index_col=None, header=0, encoding='latin-1', error_bad_lines=False)\n",
      "/var/folders/8s/t2_j_2bj0v940314cf44s5k80000gn/T/ipykernel_13871/1491375623.py:8: FutureWarning: The error_bad_lines argument has been deprecated and will be removed in a future version. Use on_bad_lines in the future.\n",
      "\n",
      "\n",
      "  df = pd.read_csv(filename, index_col=None, header=0, encoding='latin-1', error_bad_lines=False)\n",
      "b'Skipping line 20653: expected 17 fields, saw 18\\n'\n",
      "/var/folders/8s/t2_j_2bj0v940314cf44s5k80000gn/T/ipykernel_13871/1491375623.py:8: FutureWarning: The error_bad_lines argument has been deprecated and will be removed in a future version. Use on_bad_lines in the future.\n",
      "\n",
      "\n",
      "  df = pd.read_csv(filename, index_col=None, header=0, encoding='latin-1', error_bad_lines=False)\n",
      "b'Skipping line 15429: expected 17 fields, saw 18\\n'\n",
      "b'Skipping line 48084: expected 17 fields, saw 18\\nSkipping line 62847: expected 17 fields, saw 18\\n'\n",
      "/var/folders/8s/t2_j_2bj0v940314cf44s5k80000gn/T/ipykernel_13871/1491375623.py:8: FutureWarning: The error_bad_lines argument has been deprecated and will be removed in a future version. Use on_bad_lines in the future.\n",
      "\n",
      "\n",
      "  df = pd.read_csv(filename, index_col=None, header=0, encoding='latin-1', error_bad_lines=False)\n",
      "b'Skipping line 62385: expected 17 fields, saw 18\\n'\n",
      "/var/folders/8s/t2_j_2bj0v940314cf44s5k80000gn/T/ipykernel_13871/1491375623.py:8: FutureWarning: The error_bad_lines argument has been deprecated and will be removed in a future version. Use on_bad_lines in the future.\n",
      "\n",
      "\n",
      "  df = pd.read_csv(filename, index_col=None, header=0, encoding='latin-1', error_bad_lines=False)\n",
      "/var/folders/8s/t2_j_2bj0v940314cf44s5k80000gn/T/ipykernel_13871/1491375623.py:8: DtypeWarning: Columns (0) have mixed types. Specify dtype option on import or set low_memory=False.\n",
      "  df = pd.read_csv(filename, index_col=None, header=0, encoding='latin-1', error_bad_lines=False)\n",
      "/var/folders/8s/t2_j_2bj0v940314cf44s5k80000gn/T/ipykernel_13871/1491375623.py:8: FutureWarning: The error_bad_lines argument has been deprecated and will be removed in a future version. Use on_bad_lines in the future.\n",
      "\n",
      "\n",
      "  df = pd.read_csv(filename, index_col=None, header=0, encoding='latin-1', error_bad_lines=False)\n",
      "b'Skipping line 974: expected 17 fields, saw 18\\n'\n",
      "/var/folders/8s/t2_j_2bj0v940314cf44s5k80000gn/T/ipykernel_13871/1491375623.py:8: FutureWarning: The error_bad_lines argument has been deprecated and will be removed in a future version. Use on_bad_lines in the future.\n",
      "\n",
      "\n",
      "  df = pd.read_csv(filename, index_col=None, header=0, encoding='latin-1', error_bad_lines=False)\n",
      "b'Skipping line 37685: expected 17 fields, saw 19\\n'\n",
      "b'Skipping line 119033: expected 17 fields, saw 18\\nSkipping line 119034: expected 17 fields, saw 18\\n'\n",
      "/var/folders/8s/t2_j_2bj0v940314cf44s5k80000gn/T/ipykernel_13871/1491375623.py:8: FutureWarning: The error_bad_lines argument has been deprecated and will be removed in a future version. Use on_bad_lines in the future.\n",
      "\n",
      "\n",
      "  df = pd.read_csv(filename, index_col=None, header=0, encoding='latin-1', error_bad_lines=False)\n",
      "b'Skipping line 30478: expected 17 fields, saw 18\\nSkipping line 31640: expected 17 fields, saw 18\\n'\n"
     ]
    }
   ],
   "source": [
    "path = r'Contributions'\n",
    "all_files = glob.glob(path + \"/*.csv\")\n",
    "\n",
    "li = []\n",
    "\n",
    "for filename in all_files:\n",
    "    df = pd.read_csv(filename, index_col=None, header=0, encoding='latin-1', error_bad_lines=False)\n",
    "    li.append(df)\n",
    "\n",
    "contribution_data = pd.concat(li, axis=0, ignore_index=True)"
   ]
  },
  {
   "cell_type": "code",
   "execution_count": 3,
   "metadata": {},
   "outputs": [
    {
     "name": "stdout",
     "output_type": "stream",
     "text": [
      "  FileNumber  CommitteeType                                   Committee  \\\n",
      "0         17  Regular Party  Indiana Republican State Central Committee   \n",
      "1         17  Regular Party  Indiana Republican State Central Committee   \n",
      "2         17  Regular Party  Indiana Republican State Central Committee   \n",
      "3         17  Regular Party  Indiana Republican State Central Committee   \n",
      "4         17  Regular Party  Indiana Republican State Central Committee   \n",
      "\n",
      "  CandidateName ContributorType                           Name  \\\n",
      "0           NaN     Corporation            Aiming Higher, Inc.   \n",
      "1           NaN     Corporation            Aiming Higher, Inc.   \n",
      "2           NaN     Corporation           AK Steel Corporation   \n",
      "3           NaN     Corporation   All Savers Insurance Company   \n",
      "4           NaN     Corporation  American Trans Airlines, Inc.   \n",
      "\n",
      "                        Address          City State    Zip Occupation  \\\n",
      "0   47 S. Meridian St, Ste. 200  Indianapolis    IN  46204        NaN   \n",
      "1  47 S. Meridian St., Ste. 200  Indianapolis    IN  46204        NaN   \n",
      "2                6200 Vogel Rd.    Evansville    IN  47715        NaN   \n",
      "3                5720 W 85th St  Indianapolis    IN  46268        NaN   \n",
      "4        7337 W. Washington St.  Indianapolis    IN  46231        NaN   \n",
      "\n",
      "      Type Description   Amount     ContributionDate Received_By  Amended  \n",
      "0     Misc         NaN  1408.67  2005-04-06 00:00:00   Treasurer      1.0  \n",
      "1     Misc         NaN  1172.51  2005-02-18 00:00:00   Treasurer      1.0  \n",
      "2   Direct         NaN  3000.00  2005-04-12 00:00:00   Treasurer      1.0  \n",
      "3   Direct         NaN  5000.00  2004-10-25 00:00:00   Treasurer      1.0  \n",
      "4  In-Kind         NaN  1665.13  2005-01-18 00:00:00   Treasurer      1.0  \n"
     ]
    }
   ],
   "source": [
    "print(contribution_data.head())"
   ]
  },
  {
   "cell_type": "markdown",
   "metadata": {},
   "source": [
    "## Contribution - Data Cleaning"
   ]
  },
  {
   "cell_type": "code",
   "execution_count": 4,
   "outputs": [
    {
     "name": "stdout",
     "output_type": "stream",
     "text": [
      "<class 'pandas.core.frame.DataFrame'>\n",
      "RangeIndex: 1751344 entries, 0 to 1751343\n",
      "Data columns (total 17 columns):\n",
      " #   Column            Dtype  \n",
      "---  ------            -----  \n",
      " 0   FileNumber        object \n",
      " 1   CommitteeType     object \n",
      " 2   Committee         object \n",
      " 3   CandidateName     object \n",
      " 4   ContributorType   object \n",
      " 5   Name              object \n",
      " 6   Address           object \n",
      " 7   City              object \n",
      " 8   State             object \n",
      " 9   Zip               object \n",
      " 10  Occupation        object \n",
      " 11  Type              object \n",
      " 12  Description       object \n",
      " 13  Amount            float64\n",
      " 14  ContributionDate  object \n",
      " 15  Received_By       object \n",
      " 16  Amended           float64\n",
      "dtypes: float64(2), object(15)\n",
      "memory usage: 227.1+ MB\n"
     ]
    }
   ],
   "source": [
    "contribution_data.info()"
   ],
   "metadata": {
    "collapsed": false
   }
  },
  {
   "cell_type": "code",
   "execution_count": 4,
   "outputs": [],
   "source": [
    "contribution_data.to_csv('contribution_data.csv')"
   ],
   "metadata": {
    "collapsed": false
   }
  },
  {
   "cell_type": "markdown",
   "source": [
    "## Expenditures - Data Combination"
   ],
   "metadata": {
    "collapsed": false
   }
  },
  {
   "cell_type": "code",
   "execution_count": null,
   "outputs": [],
   "source": [
    "path = r'Expenditures'\n",
    "all_files = glob.glob(path + \"/*.csv\")\n",
    "\n",
    "li = []\n",
    "\n",
    "for filename in all_files:\n",
    "    df = pd.read_csv(filename, index_col=None, header=0, encoding='latin-1', error_bad_lines=False)\n",
    "    li.append(df)\n",
    "\n",
    "expenditure_data = pd.concat(li, axis=0, ignore_index=True)"
   ],
   "metadata": {
    "collapsed": false
   }
  },
  {
   "cell_type": "code",
   "execution_count": null,
   "outputs": [],
   "source": [
    "print(expenditure_data.head())"
   ],
   "metadata": {
    "collapsed": false
   }
  },
  {
   "cell_type": "code",
   "execution_count": null,
   "outputs": [],
   "source": [
    "expenditure_data.info()"
   ],
   "metadata": {
    "collapsed": false
   }
  },
  {
   "cell_type": "code",
   "execution_count": null,
   "outputs": [],
   "source": [
    "expenditure_data.to_csv('expenditure_data.csv')"
   ],
   "metadata": {
    "collapsed": false
   }
  }
 ],
 "metadata": {
  "kernelspec": {
   "display_name": "Python 3.9.12 ('base')",
   "language": "python",
   "name": "python3"
  },
  "language_info": {
   "codemirror_mode": {
    "name": "ipython",
    "version": 3
   },
   "file_extension": ".py",
   "mimetype": "text/x-python",
   "name": "python",
   "nbconvert_exporter": "python",
   "pygments_lexer": "ipython3",
   "version": "3.9.12"
  },
  "orig_nbformat": 4,
  "vscode": {
   "interpreter": {
    "hash": "c781c38cc189b27740678b404b8ae9f6d98515be7375d30988f0e032192a35f7"
   }
  }
 },
 "nbformat": 4,
 "nbformat_minor": 2
}
